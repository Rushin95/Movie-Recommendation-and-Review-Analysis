{
 "cells": [
  {
   "cell_type": "markdown",
   "metadata": {
    "collapsed": true
   },
   "source": [
    "# MOVIE RECOMENDATION SYSTEM"
   ]
  },
  {
   "cell_type": "code",
   "execution_count": null,
   "metadata": {
    "collapsed": true
   },
   "outputs": [],
   "source": [
    "from os import listdir\n",
    "import re"
   ]
  },
  {
   "cell_type": "markdown",
   "metadata": {},
   "source": [
    "# Collect all reviews for the top reviewed movies"
   ]
  },
  {
   "cell_type": "code",
   "execution_count": null,
   "metadata": {
    "collapsed": false
   },
   "outputs": [],
   "source": [
    "#Form a dictionary for each movie with all reviews\n",
    "fold = 'positive_reviews/'\n",
    "all_reviews = {} #Dictionary: {movie_id1:[rev1,rev2,...], movie_id2:[rev1,rev2,...]}\n",
    "for file in listdir(fold):\n",
    "    movie_id = re.split('_|\\.',file)[2] #file format: [revID]_[score]_[movie_id].txt\n",
    "    l = all_reviews.get(movie_id,[]) #list of all previously seen reviews for this movie_id\n",
    "    try:\n",
    "        f = open(fold+file,'r')\n",
    "        review = ''\n",
    "        for line in f:\n",
    "            review = review+'.'+line #Join all lines of a review, separate them by \".\"\n",
    "        l.append(review) #Append each review to a list of reviews\n",
    "        all_reviews[movie_id] = l #Update list of reviews for this movie_id\n",
    "        f.close()\n",
    "    except:\n",
    "        continue"
   ]
  },
  {
   "cell_type": "code",
   "execution_count": null,
   "metadata": {
    "collapsed": false
   },
   "outputs": [],
   "source": [
    "all_reviews['tt0037514'] #All reviews for movie with movie_id='tt0037514'"
   ]
  },
  {
   "cell_type": "code",
   "execution_count": null,
   "metadata": {
    "collapsed": false
   },
   "outputs": [],
   "source": [
    "tot = 0\n",
    "top_rev_ids = [] #IDs of movies with more than 10 reviews\n",
    "top_rev_words_collection = [] #words_collection - \"words\" for these movies\n",
    "for movie_id,reviews in all_reviews.items():\n",
    "    if len(reviews)>10: #Use only movies with more than 10 reviews for recommendation\n",
    "        top_rev_ids.append(movie_id)\n",
    "        words_collection = {}\n",
    "        for review in reviews:\n",
    "            review = review.strip().lower()\n",
    "            words = re.split(' |, |: |!|\\.|\"|\\'|\\(|\\)|\\?|/|;|>|<',review)\n",
    "            for word in words:\n",
    "                words_collection[word] = words_collection.get(word,0)+1 \n",
    "                #Word's count in all previously seen reviews for this movie_id\n",
    "        top_rev_words_collection.append(words_collection)"
   ]
  },
  {
   "cell_type": "code",
   "execution_count": null,
   "metadata": {
    "collapsed": false
   },
   "outputs": [],
   "source": [
    "len(top_rev_words_collection) #There are 378 movies with more than 10 reviews"
   ]
  },
  {
   "cell_type": "markdown",
   "metadata": {},
   "source": [
    "# Form vocabulary of words"
   ]
  },
  {
   "cell_type": "code",
   "execution_count": null,
   "metadata": {
    "collapsed": false
   },
   "outputs": [],
   "source": [
    "full_vocab = {} #Vocabulary of all words in positive reviews: {word1:count1, word2:count2, ...}\n",
    "for words_collection in top_rev_words_collection:\n",
    "    for word,count in words_collection.items():\n",
    "        full_vocab[word] = full_vocab.get(word,0)+count\n",
    "full_vocab"
   ]
  },
  {
   "cell_type": "code",
   "execution_count": null,
   "metadata": {
    "collapsed": false
   },
   "outputs": [],
   "source": [
    "sorted(full_vocab.items(),key=lambda x: -x[1])[:100]\n",
    "#At pos=89 \"love\" - do not remove as may be used for \"love stories\""
   ]
  },
  {
   "cell_type": "code",
   "execution_count": null,
   "metadata": {
    "collapsed": false
   },
   "outputs": [],
   "source": [
    "high_freq_words = set(sorted(full_vocab, key=full_vocab.get,reverse=True)[:88]) #High frequency words\n",
    "high_freq_words"
   ]
  },
  {
   "cell_type": "code",
   "execution_count": null,
   "metadata": {
    "collapsed": false
   },
   "outputs": [],
   "source": [
    "# Polarity words\n",
    "f = open('polarity_words_uniq.csv','r') #Adapted from http://sentiwordnet.isti.cnr.it/\n",
    "pol_words = {}\n",
    "next(f) #To skip header row\n",
    "for line in f:\n",
    "    line = line.strip()\n",
    "    line = line.split(',')\n",
    "    polarity = float(line[1])\n",
    "    pol_words[line[0]] = polarity\n",
    "f.close()\n",
    "pol_words #{polarity_word1: polarity1, polarity_word2: polarity2,...}"
   ]
  },
  {
   "cell_type": "code",
   "execution_count": null,
   "metadata": {
    "collapsed": false
   },
   "outputs": [],
   "source": [
    "high_pol_words = set([ k for k,v in pol_words.items() if v>=0.5 or v<=-0.5 ])\n",
    "#'bad' in high_pol_words\n",
    "high_pol_words #High polarity words"
   ]
  },
  {
   "cell_type": "code",
   "execution_count": null,
   "metadata": {
    "collapsed": false
   },
   "outputs": [],
   "source": [
    "vocab = set(full_vocab.keys())-high_pol_words-high_freq_words \n",
    "#Vocabulary for use in recomendation system\n",
    "vocab"
   ]
  },
  {
   "cell_type": "code",
   "execution_count": null,
   "metadata": {
    "collapsed": false
   },
   "outputs": [],
   "source": [
    "vocab_pos = dict(zip(vocab,range(len(vocab)))) \n",
    "#Dictionary of vocabulary words and their positions in vocab_vec: {word1:pos1, word2:pos2,...}\n",
    "sorted(vocab_pos.items(), key=lambda x: x[1])"
   ]
  },
  {
   "cell_type": "code",
   "execution_count": null,
   "metadata": {
    "collapsed": false
   },
   "outputs": [],
   "source": [
    "vocab_vec = sorted(vocab_pos, key=vocab_pos.get,reverse=False) #List of vocabulary words in order\n",
    "vocab_vec"
   ]
  },
  {
   "cell_type": "code",
   "execution_count": null,
   "metadata": {
    "collapsed": false
   },
   "outputs": [],
   "source": [
    "import numpy as np\n",
    "n_top_rev_mov = len(top_rev_ids) #Number of top reviewed positive movies\n",
    "n_vocab = len(vocab_pos) #Number of all words in vocabulary\n",
    "mov_vocab_matr = np.zeros((n_top_rev_mov,n_vocab), dtype=np.int) #Initially mov_vocab_matr is set to 0s\n",
    "mov_v=ocab_matr.shape \n",
    "#Rows correspond to each movie in top_rev_words_collection; columns correspond to each word in vocab_vec"
   ]
  },
  {
   "cell_type": "code",
   "execution_count": null,
   "metadata": {
    "collapsed": false
   },
   "outputs": [],
   "source": [
    "mov_vocab_matr[0,21313] #Word \"look\" in the 0th top reviewed movies"
   ]
  },
  {
   "cell_type": "code",
   "execution_count": null,
   "metadata": {
    "collapsed": false
   },
   "outputs": [],
   "source": [
    "for movInd,words_collection in enumerate(top_rev_words_collection):\n",
    "    for word in words_collection.keys():\n",
    "        try:\n",
    "            mov_vocab_matr[movInd,vocab_pos[word]] = 1 #If word has been seen in a review, set to 1\n",
    "            if movInd == 0:\n",
    "                print(movInd,word,vocab_pos[word])\n",
    "        except:\n",
    "            continue"
   ]
  },
  {
   "cell_type": "code",
   "execution_count": null,
   "metadata": {
    "collapsed": false
   },
   "outputs": [],
   "source": [
    "mov_vocab_matr[0,21313] #Word \"look\" in the 0th top reviewed movies"
   ]
  },
  {
   "cell_type": "code",
   "execution_count": null,
   "metadata": {
    "collapsed": false
   },
   "outputs": [],
   "source": [
    "f = open('negative_reviews/4_4_tt0047200.txt','r') #Open negative review of an unsatisfied customer\n",
    "vocab_vec_neg_mov = np.zeros(n_vocab,dtype=np.int) #vector of 0s for each word in vocabulary\n",
    "for line in f:\n",
    "    line = line.strip().lower()\n",
    "    words = re.split(' |, |: |!|\\.|\"|\\'|\\(|\\)|\\?|/|;|>|<',line)\n",
    "    for word in words:\n",
    "        try:\n",
    "            vocab_vec_neg_mov[vocab_pos[word]] = 1 #if word has been seen in this review, set to 1\n",
    "            print(word,vocab_pos[word])\n",
    "        except:\n",
    "            continue\n",
    "f.close()"
   ]
  },
  {
   "cell_type": "code",
   "execution_count": null,
   "metadata": {
    "collapsed": false
   },
   "outputs": [],
   "source": [
    "vocab_vec_neg_mov[38680] #Word \"cast\" exist in vocab_vec_neg_mov, therefore the result is 1"
   ]
  },
  {
   "cell_type": "code",
   "execution_count": null,
   "metadata": {
    "collapsed": false
   },
   "outputs": [],
   "source": [
    "np.dot(mov_vocab_matr,vocab_vec_neg_mov)\n",
    "#Similarity vector between the negative review and each of 378 positive reviews\n",
    "#Scalar product between the vocabulary vector of a negative review \n",
    "#and each of the vocabulary vectors of top reviewed positive movies"
   ]
  },
  {
   "cell_type": "code",
   "execution_count": null,
   "metadata": {
    "collapsed": false
   },
   "outputs": [],
   "source": [
    "np.argsort(-np.dot(mov_vocab_matr,vocab_vec_neg_mov))\n",
    "#np.dot(mov_vocab_matr,vocab_vec_neg_mov)[96]"
   ]
  },
  {
   "cell_type": "code",
   "execution_count": null,
   "metadata": {
    "collapsed": false
   },
   "outputs": [],
   "source": [
    "[top_rev_ids[i] for i in np.argsort(-np.dot(mov_vocab_matr,vocab_vec_neg_mov))] \n",
    "#Recommended movies (sorted from the most similar to least similar)"
   ]
  },
  {
   "cell_type": "code",
   "execution_count": null,
   "metadata": {
    "collapsed": true
   },
   "outputs": [],
   "source": []
  }
 ],
 "metadata": {
  "anaconda-cloud": {},
  "kernelspec": {
   "display_name": "Python 3",
   "language": "python",
   "name": "python3"
  },
  "language_info": {
   "codemirror_mode": {
    "name": "ipython",
    "version": 3
   },
   "file_extension": ".py",
   "mimetype": "text/x-python",
   "name": "python",
   "nbconvert_exporter": "python",
   "pygments_lexer": "ipython3",
   "version": "3.6.0"
  }
 },
 "nbformat": 4,
 "nbformat_minor": 2
}
